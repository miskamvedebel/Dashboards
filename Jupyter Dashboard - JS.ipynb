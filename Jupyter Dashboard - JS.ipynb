{
 "cells": [
  {
   "cell_type": "code",
   "execution_count": 1,
   "metadata": {},
   "outputs": [
    {
     "data": {
      "text/html": [
       "<script type=\"text/javascript\">window.PlotlyConfig = {MathJaxConfig: 'local'};</script><script type=\"text/javascript\">if (window.MathJax) {MathJax.Hub.Config({SVG: {font: \"STIX-Web\"}});}</script><script>requirejs.config({paths: { 'plotly': ['https://cdn.plot.ly/plotly-latest.min']},});if(!window._Plotly) {require(['plotly'],function(plotly) {window._Plotly=plotly;});}</script>"
      ],
      "text/vnd.plotly.v1+html": [
       "<script type=\"text/javascript\">window.PlotlyConfig = {MathJaxConfig: 'local'};</script><script type=\"text/javascript\">if (window.MathJax) {MathJax.Hub.Config({SVG: {font: \"STIX-Web\"}});}</script><script>requirejs.config({paths: { 'plotly': ['https://cdn.plot.ly/plotly-latest.min']},});if(!window._Plotly) {require(['plotly'],function(plotly) {window._Plotly=plotly;});}</script>"
      ]
     },
     "metadata": {},
     "output_type": "display_data"
    }
   ],
   "source": [
    "import pandas as pd\n",
    "import matplotlib.pyplot as plt\n",
    "from IPython.display import display, HTML\n",
    "import plotly.plotly as py\n",
    "import plotly.graph_objs as go\n",
    "from plotly.offline import download_plotlyjs, init_notebook_mode, plot, iplot\n",
    "init_notebook_mode(connected=True)"
   ]
  },
  {
   "cell_type": "code",
   "execution_count": 4,
   "metadata": {},
   "outputs": [],
   "source": [
    "alcohol = \"indicator alcohol consumption  20100830.xlsx\"\n",
    "gdp = \"GDPpercapitaconstant2000US.xlsx\"\n",
    "\n",
    "data_alco = pd.read_excel(alcohol, header=0)\n",
    "data_gdp = pd.read_excel(gdp, header=0)\n",
    "data_gdp = data_gdp.set_index('Income per person (fixed 2000 US$)')\n",
    "data_gdp.index.name = 'country'\n",
    "data_alco.index.name = 'country'\n",
    "countries = ['Portugal', 'Spain', 'United States', 'United Kingdom', 'Finland', 'Germany', 'Russia']\n",
    "data_alco, data_gdp = data_alco.iloc[:, -10:], data_gdp.iloc[:, -10:]\n",
    "data_alco, data_gdp = data_alco[data_alco.index.isin(countries)], data_gdp[data_gdp.index.isin(countries)]\n",
    "data_gdp = data_gdp.loc[:, ('2005', '2008')]\n",
    "data_alco = data_alco.loc[:, (2005, 2008)]\n",
    "data_alco = data_alco.unstack().reset_index().rename({'level_0': 'year', 0: 'alco'}, axis=1)\n",
    "data_gdp = data_gdp.unstack().reset_index().rename({'level_0': 'year', 0: 'gdp'}, axis=1)\n",
    "data_alco['year'] = [str(i) for i in data_alco['year']]\n",
    "data = pd.merge(data_alco, data_gdp, how='inner', on=('year', 'country'))"
   ]
  },
  {
   "cell_type": "markdown",
   "metadata": {},
   "source": [
    "### Dashboard example"
   ]
  },
  {
   "cell_type": "code",
   "execution_count": 5,
   "metadata": {},
   "outputs": [
    {
     "data": {
      "application/vnd.plotly.v1+json": {
       "config": {
        "linkText": "Export to plot.ly",
        "plotlyServerURL": "https://plot.ly",
        "showLink": true
       },
       "data": [
        {
         "mode": "markers",
         "name": "2008",
         "text": [
          "Finland",
          "Germany",
          "Portugal",
          "Russia",
          "Spain",
          "United Kingdom",
          "United States"
         ],
         "type": "scatter",
         "uid": "3ccf4a99-2a9e-405d-ac54-8e4b84ebcb75",
         "x": [
          13.1,
          12.14,
          13.89,
          16.23,
          11.83,
          13.24,
          9.7
         ],
         "y": [
          28789.5438527385,
          25620.0753922856,
          11949.1146436824,
          3043.66559880156,
          16251.8369329875,
          29287.7604170811,
          38208.7611833783
         ]
        },
        {
         "mode": "markers",
         "name": "2005",
         "text": [
          "Finland",
          "Germany",
          "Portugal",
          "Russia",
          "Spain",
          "United Kingdom",
          "United States"
         ],
         "type": "scatter",
         "uid": "3e554b8e-7415-4fd3-8cb5-092d28e61017",
         "x": [
          12.52,
          12.81,
          14.55,
          15.76,
          11.62,
          13.37,
          9.44
         ],
         "y": [
          26435.0234384715,
          23564.3851678751,
          11586.9625428713,
          2442.96296613797,
          15700.5276097707,
          28354.0395830577,
          37718.0053665793
         ]
        }
       ],
       "layout": {
        "margin": {
         "b": 30,
         "l": 0,
         "r": 0,
         "t": 30
        },
        "title": "Alcohol consumption & gdp",
        "updatemenus": [
         {
          "x": 0.1,
          "xanchor": "left",
          "y": 1,
          "yanchor": "top"
         },
         {
          "buttons": [
           {
            "args": [
             "visible",
             [
              true,
              false
             ]
            ],
            "label": "2008",
            "method": "restyle"
           },
           {
            "args": [
             "visible",
             [
              false,
              true
             ]
            ],
            "label": "2005",
            "method": "restyle"
           },
           {
            "args": [
             "visible",
             [
              true,
              true
             ]
            ],
            "label": "All",
            "method": "restyle"
           }
          ]
         }
        ]
       }
      },
      "text/html": [
       "<div id=\"01228214-672f-4df7-935f-27ce5b8d5d97\" style=\"height: 525px; width: 100%;\" class=\"plotly-graph-div\"></div><script type=\"text/javascript\">require([\"plotly\"], function(Plotly) { window.PLOTLYENV=window.PLOTLYENV || {};window.PLOTLYENV.BASE_URL=\"https://plot.ly\";Plotly.newPlot(\"01228214-672f-4df7-935f-27ce5b8d5d97\", [{\"mode\": \"markers\", \"name\": \"2008\", \"text\": [\"Finland\", \"Germany\", \"Portugal\", \"Russia\", \"Spain\", \"United Kingdom\", \"United States\"], \"x\": [13.1, 12.14, 13.89, 16.23, 11.83, 13.24, 9.7], \"y\": [28789.5438527385, 25620.0753922856, 11949.1146436824, 3043.66559880156, 16251.8369329875, 29287.7604170811, 38208.7611833783], \"type\": \"scatter\", \"uid\": \"063cbd55-e3e5-4296-9d02-9fc4685edfa1\"}, {\"mode\": \"markers\", \"name\": \"2005\", \"text\": [\"Finland\", \"Germany\", \"Portugal\", \"Russia\", \"Spain\", \"United Kingdom\", \"United States\"], \"x\": [12.52, 12.81, 14.55, 15.76, 11.62, 13.37, 9.44], \"y\": [26435.0234384715, 23564.3851678751, 11586.9625428713, 2442.96296613797, 15700.5276097707, 28354.0395830577, 37718.0053665793], \"type\": \"scatter\", \"uid\": \"a1af039b-9372-4295-aff1-375cfaa4dfca\"}], {\"margin\": {\"b\": 30, \"l\": 0, \"r\": 0, \"t\": 30}, \"title\": \"Alcohol consumption & gdp\", \"updatemenus\": [{\"x\": 0.1, \"xanchor\": \"left\", \"y\": 1.0, \"yanchor\": \"top\"}, {\"buttons\": [{\"args\": [\"visible\", [true, false]], \"label\": \"2008\", \"method\": \"restyle\"}, {\"args\": [\"visible\", [false, true]], \"label\": \"2005\", \"method\": \"restyle\"}, {\"args\": [\"visible\", [true, true]], \"label\": \"All\", \"method\": \"restyle\"}]}]}, {\"showLink\": true, \"linkText\": \"Export to plot.ly\", \"plotlyServerURL\": \"https://plot.ly\"})});</script><script type=\"text/javascript\">window.addEventListener(\"resize\", function(){window._Plotly.Plots.resize(document.getElementById(\"01228214-672f-4df7-935f-27ce5b8d5d97\"));});</script>"
      ],
      "text/vnd.plotly.v1+html": [
       "<div id=\"01228214-672f-4df7-935f-27ce5b8d5d97\" style=\"height: 525px; width: 100%;\" class=\"plotly-graph-div\"></div><script type=\"text/javascript\">require([\"plotly\"], function(Plotly) { window.PLOTLYENV=window.PLOTLYENV || {};window.PLOTLYENV.BASE_URL=\"https://plot.ly\";Plotly.newPlot(\"01228214-672f-4df7-935f-27ce5b8d5d97\", [{\"mode\": \"markers\", \"name\": \"2008\", \"text\": [\"Finland\", \"Germany\", \"Portugal\", \"Russia\", \"Spain\", \"United Kingdom\", \"United States\"], \"x\": [13.1, 12.14, 13.89, 16.23, 11.83, 13.24, 9.7], \"y\": [28789.5438527385, 25620.0753922856, 11949.1146436824, 3043.66559880156, 16251.8369329875, 29287.7604170811, 38208.7611833783], \"type\": \"scatter\", \"uid\": \"063cbd55-e3e5-4296-9d02-9fc4685edfa1\"}, {\"mode\": \"markers\", \"name\": \"2005\", \"text\": [\"Finland\", \"Germany\", \"Portugal\", \"Russia\", \"Spain\", \"United Kingdom\", \"United States\"], \"x\": [12.52, 12.81, 14.55, 15.76, 11.62, 13.37, 9.44], \"y\": [26435.0234384715, 23564.3851678751, 11586.9625428713, 2442.96296613797, 15700.5276097707, 28354.0395830577, 37718.0053665793], \"type\": \"scatter\", \"uid\": \"a1af039b-9372-4295-aff1-375cfaa4dfca\"}], {\"margin\": {\"b\": 30, \"l\": 0, \"r\": 0, \"t\": 30}, \"title\": \"Alcohol consumption & gdp\", \"updatemenus\": [{\"x\": 0.1, \"xanchor\": \"left\", \"y\": 1.0, \"yanchor\": \"top\"}, {\"buttons\": [{\"args\": [\"visible\", [true, false]], \"label\": \"2008\", \"method\": \"restyle\"}, {\"args\": [\"visible\", [false, true]], \"label\": \"2005\", \"method\": \"restyle\"}, {\"args\": [\"visible\", [true, true]], \"label\": \"All\", \"method\": \"restyle\"}]}]}, {\"showLink\": true, \"linkText\": \"Export to plot.ly\", \"plotlyServerURL\": \"https://plot.ly\"})});</script><script type=\"text/javascript\">window.addEventListener(\"resize\", function(){window._Plotly.Plots.resize(document.getElementById(\"01228214-672f-4df7-935f-27ce5b8d5d97\"));});</script>"
      ]
     },
     "metadata": {},
     "output_type": "display_data"
    }
   ],
   "source": [
    "trace0 = go.Scatter(\n",
    "    x=data['alco'][data['year']=='2008'].tolist(),\n",
    "    y=data['gdp'][data['year']=='2008'].tolist(),\n",
    "    text=list(data['country'][data['year']=='2008']),\n",
    "    mode='markers',\n",
    "    name='2008'\n",
    ")\n",
    "trace1 = go.Scatter(\n",
    "    x=data['alco'][data['year']=='2005'].tolist(),\n",
    "    y=data['gdp'][data['year']=='2005'].tolist(),\n",
    "    text=list(data['country'][data['year']=='2005']),\n",
    "    mode='markers',\n",
    "    name='2005'\n",
    ")\n",
    "dt = [trace0, trace1]\n",
    "updatemenus = list([\n",
    "    dict(\n",
    "        x = 0.1,\n",
    "        xanchor = 'left',\n",
    "        y = 1.0,\n",
    "        yanchor = 'top'),\n",
    "    dict(buttons=list(\n",
    "        [\n",
    "            dict(args = [\"visible\", [True, False]],\n",
    "                 label = '2008',\n",
    "                 method = 'restyle'),\n",
    "            dict(args = [\"visible\", [False, True]],\n",
    "                 label = '2005',\n",
    "                 method = 'restyle'),\n",
    "            dict(args = [\"visible\", [True, True]],\n",
    "                 label = 'All',\n",
    "                 method = 'restyle')\n",
    "        ]),\n",
    "    )\n",
    "])\n",
    "\n",
    "\n",
    "layout = dict(\n",
    "            title = 'Alcohol consumption & gdp', \n",
    "            updatemenus=updatemenus, margin = dict( t=30, b=30, l=0, r=0 )\n",
    "            )\n",
    "\n",
    "fig = dict(data=dt, layout=layout)\n",
    "iplot(fig)\n"
   ]
  },
  {
   "cell_type": "code",
   "execution_count": 6,
   "metadata": {},
   "outputs": [
    {
     "data": {
      "text/html": [
       "<script>\n",
       "code_show=true; \n",
       "function code_toggle() {\n",
       " if (code_show){\n",
       " $('div.input').hide();\n",
       " } else {\n",
       " $('div.input').show();\n",
       " }\n",
       " code_show = !code_show\n",
       "} \n",
       "$( document ).ready(code_toggle);\n",
       "</script>\n",
       "The raw code for this IPython notebook is by default hidden for easier reading.\n",
       "To toggle on/off the raw code, click <a href=\"javascript:code_toggle()\">here</a>."
      ],
      "text/plain": [
       "<IPython.core.display.HTML object>"
      ]
     },
     "execution_count": 6,
     "metadata": {},
     "output_type": "execute_result"
    }
   ],
   "source": [
    "HTML('''<script>\n",
    "code_show=true; \n",
    "function code_toggle() {\n",
    " if (code_show){\n",
    " $('div.input').hide();\n",
    " } else {\n",
    " $('div.input').show();\n",
    " }\n",
    " code_show = !code_show\n",
    "} \n",
    "$( document ).ready(code_toggle);\n",
    "</script>\n",
    "The raw code for this IPython notebook is by default hidden for easier reading.\n",
    "To toggle on/off the raw code, click <a href=\"javascript:code_toggle()\">here</a>.''')"
   ]
  }
 ],
 "metadata": {
  "kernelspec": {
   "display_name": "Python 3",
   "language": "python",
   "name": "python3"
  },
  "language_info": {
   "codemirror_mode": {
    "name": "ipython",
    "version": 3
   },
   "file_extension": ".py",
   "mimetype": "text/x-python",
   "name": "python",
   "nbconvert_exporter": "python",
   "pygments_lexer": "ipython3",
   "version": "3.6.5"
  }
 },
 "nbformat": 4,
 "nbformat_minor": 2
}
